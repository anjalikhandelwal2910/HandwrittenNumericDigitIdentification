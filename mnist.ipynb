{
 "cells": [
  {
   "cell_type": "code",
   "execution_count": 0,
   "metadata": {
    "colab": {
     "autoexec": {
      "startup": false,
      "wait_interval": 0
     }
    },
    "colab_type": "code",
    "id": "Ys8ujaS--z-6"
   },
   "outputs": [],
   "source": [
    "import tensorflow as tf\n",
    "import matplotlib.pyplot as plt"
   ]
  },
  {
   "cell_type": "code",
   "execution_count": 0,
   "metadata": {
    "colab": {
     "autoexec": {
      "startup": false,
      "wait_interval": 0
     }
    },
    "colab_type": "code",
    "id": "yr6UfTdmevII"
   },
   "outputs": [],
   "source": [
    "from tensorflow.examples.tutorials.mnist import input_data"
   ]
  },
  {
   "cell_type": "code",
   "execution_count": 3,
   "metadata": {
    "colab": {
     "autoexec": {
      "startup": false,
      "wait_interval": 0
     },
     "base_uri": "https://localhost:8080/",
     "height": 524
    },
    "colab_type": "code",
    "executionInfo": {
     "elapsed": 2236,
     "status": "ok",
     "timestamp": 1532069892922,
     "user": {
      "displayName": "divyn gairola",
      "photoUrl": "https://lh3.googleusercontent.com/a/default-user=s128",
      "userId": "100049045453032642325"
     },
     "user_tz": -330
    },
    "id": "NK_X0KY4excx",
    "outputId": "a2e7ac10-35f8-40fb-907d-6b1f1bc02b6f"
   },
   "outputs": [
    {
     "name": "stdout",
     "output_type": "stream",
     "text": [
      "WARNING:tensorflow:From <ipython-input-3-1a516c502833>:1: read_data_sets (from tensorflow.contrib.learn.python.learn.datasets.mnist) is deprecated and will be removed in a future version.\n",
      "Instructions for updating:\n",
      "Please use alternatives such as official/mnist/dataset.py from tensorflow/models.\n",
      "WARNING:tensorflow:From /usr/local/lib/python3.6/dist-packages/tensorflow/contrib/learn/python/learn/datasets/mnist.py:260: maybe_download (from tensorflow.contrib.learn.python.learn.datasets.base) is deprecated and will be removed in a future version.\n",
      "Instructions for updating:\n",
      "Please write your own downloading logic.\n",
      "WARNING:tensorflow:From /usr/local/lib/python3.6/dist-packages/tensorflow/contrib/learn/python/learn/datasets/base.py:252: _internal_retry.<locals>.wrap.<locals>.wrapped_fn (from tensorflow.contrib.learn.python.learn.datasets.base) is deprecated and will be removed in a future version.\n",
      "Instructions for updating:\n",
      "Please use urllib or similar directly.\n",
      "Successfully downloaded train-images-idx3-ubyte.gz 9912422 bytes.\n",
      "WARNING:tensorflow:From /usr/local/lib/python3.6/dist-packages/tensorflow/contrib/learn/python/learn/datasets/mnist.py:262: extract_images (from tensorflow.contrib.learn.python.learn.datasets.mnist) is deprecated and will be removed in a future version.\n",
      "Instructions for updating:\n",
      "Please use tf.data to implement this functionality.\n",
      "Extracting MNIST_data/train-images-idx3-ubyte.gz\n",
      "Successfully downloaded train-labels-idx1-ubyte.gz 28881 bytes.\n",
      "WARNING:tensorflow:From /usr/local/lib/python3.6/dist-packages/tensorflow/contrib/learn/python/learn/datasets/mnist.py:267: extract_labels (from tensorflow.contrib.learn.python.learn.datasets.mnist) is deprecated and will be removed in a future version.\n",
      "Instructions for updating:\n",
      "Please use tf.data to implement this functionality.\n",
      "Extracting MNIST_data/train-labels-idx1-ubyte.gz\n",
      "WARNING:tensorflow:From /usr/local/lib/python3.6/dist-packages/tensorflow/contrib/learn/python/learn/datasets/mnist.py:110: dense_to_one_hot (from tensorflow.contrib.learn.python.learn.datasets.mnist) is deprecated and will be removed in a future version.\n",
      "Instructions for updating:\n",
      "Please use tf.one_hot on tensors.\n",
      "Successfully downloaded t10k-images-idx3-ubyte.gz 1648877 bytes.\n",
      "Extracting MNIST_data/t10k-images-idx3-ubyte.gz\n",
      "Successfully downloaded t10k-labels-idx1-ubyte.gz 4542 bytes.\n",
      "Extracting MNIST_data/t10k-labels-idx1-ubyte.gz\n",
      "WARNING:tensorflow:From /usr/local/lib/python3.6/dist-packages/tensorflow/contrib/learn/python/learn/datasets/mnist.py:290: DataSet.__init__ (from tensorflow.contrib.learn.python.learn.datasets.mnist) is deprecated and will be removed in a future version.\n",
      "Instructions for updating:\n",
      "Please use alternatives such as official/mnist/dataset.py from tensorflow/models.\n"
     ]
    }
   ],
   "source": [
    "mnist = input_data.read_data_sets(\"MNIST_data/\", one_hot = True)"
   ]
  },
  {
   "cell_type": "code",
   "execution_count": 0,
   "metadata": {
    "colab": {
     "autoexec": {
      "startup": false,
      "wait_interval": 0
     }
    },
    "colab_type": "code",
    "id": "y86P3fb5eztR"
   },
   "outputs": [],
   "source": [
    "n_hidden=[784,150,50]\n",
    "n_classes=10\n",
    "n_hidden.append(n_classes)\n",
    "weights={}\n",
    "biases={}\n",
    "for i in range(len(n_hidden)-1):\n",
    "    weights[i]=tf.Variable(tf.random_normal([n_hidden[i],n_hidden[i+1]]))\n",
    "    biases[i]=tf.Variable(tf.random_normal([n_hidden[i+1]]))"
   ]
  },
  {
   "cell_type": "code",
   "execution_count": 0,
   "metadata": {
    "colab": {
     "autoexec": {
      "startup": false,
      "wait_interval": 0
     }
    },
    "colab_type": "code",
    "id": "YVG6tw00e3Hj"
   },
   "outputs": [],
   "source": [
    "in_hidden={}\n",
    "out_hidden={}\n",
    "def forward_propagation(x, weights, biases):\n",
    "    for i in range(len(weights)):\n",
    "        if i==0:\n",
    "            in_hidden[i]=tf.add(tf.matmul(x,weights[i]),biases[i])\n",
    "        else:    \n",
    "            in_hidden[i]=tf.add(tf.matmul(out_hidden[i-1],weights[i]),biases[i])\n",
    "        out_hidden[i]=tf.nn.relu(in_hidden[i])\n",
    "    out_hidden[i]=in_hidden[i]\n",
    "    return out_hidden[i]"
   ]
  },
  {
   "cell_type": "code",
   "execution_count": 0,
   "metadata": {
    "colab": {
     "autoexec": {
      "startup": false,
      "wait_interval": 0
     }
    },
    "colab_type": "code",
    "id": "SkZ0F-uge6OC"
   },
   "outputs": [],
   "source": [
    "x = tf.placeholder(\"float\", [None, n_hidden[0]])\n",
    "y = tf.placeholder(tf.int32, [None, n_classes])"
   ]
  },
  {
   "cell_type": "code",
   "execution_count": 0,
   "metadata": {
    "colab": {
     "autoexec": {
      "startup": false,
      "wait_interval": 0
     }
    },
    "colab_type": "code",
    "id": "xM-dxDjge61Q"
   },
   "outputs": [],
   "source": [
    "pred = forward_propagation(x, weights, biases)"
   ]
  },
  {
   "cell_type": "code",
   "execution_count": 0,
   "metadata": {
    "colab": {
     "autoexec": {
      "startup": false,
      "wait_interval": 0
     }
    },
    "colab_type": "code",
    "id": "7Tai3mZge808"
   },
   "outputs": [],
   "source": [
    "cost = tf.reduce_mean(tf.nn.softmax_cross_entropy_with_logits(logits = pred, labels = y))"
   ]
  },
  {
   "cell_type": "code",
   "execution_count": 0,
   "metadata": {
    "colab": {
     "autoexec": {
      "startup": false,
      "wait_interval": 0
     }
    },
    "colab_type": "code",
    "id": "kCVJcsmFe9Lb"
   },
   "outputs": [],
   "source": [
    "optimizer = tf.train.AdamOptimizer(learning_rate = 0.01)\n",
    "optimize_step = optimizer.minimize(cost)"
   ]
  },
  {
   "cell_type": "code",
   "execution_count": 0,
   "metadata": {
    "colab": {
     "autoexec": {
      "startup": false,
      "wait_interval": 0
     }
    },
    "colab_type": "code",
    "id": "DnMd5JX_e9PM"
   },
   "outputs": [],
   "source": [
    "sess=tf.Session()\n",
    "sess.run(tf.global_variables_initializer())"
   ]
  },
  {
   "cell_type": "code",
   "execution_count": 0,
   "metadata": {
    "colab": {
     "autoexec": {
      "startup": false,
      "wait_interval": 0
     },
     "base_uri": "https://localhost:8080/",
     "height": 1546
    },
    "colab_type": "code",
    "id": "fdKXHaj-e9Sy",
    "outputId": "e564d54e-da14-433d-f880-6cf31f88a1da"
   },
   "outputs": [
    {
     "name": "stdout",
     "output_type": "stream",
     "text": [
      "0   7541.229427218437\n",
      "1   704.6683176159859\n",
      "2   544.836029946804\n",
      "3   451.4783847332001\n",
      "4   391.5947397053242\n",
      "5   340.46089828014374\n",
      "6   299.23192048072815\n",
      "7   249.37188085913658\n",
      "8   220.54532232880592\n",
      "9   190.09750616550446\n",
      "10   164.63004890829325\n",
      "11   140.58125057071447\n",
      "12   121.4202902764082\n",
      "13   114.90106419846416\n",
      "14   105.94446387887001\n",
      "15   94.62431867234409\n",
      "16   85.5211558258161\n",
      "17   77.88165273051709\n",
      "18   73.53575232345611\n",
      "19   67.8931717411615\n",
      "20   60.49864656664431\n",
      "21   58.554043129552156\n",
      "22   59.170268116984516\n",
      "23   56.997430849587545\n",
      "24   45.3659259933047\n",
      "25   48.13881633570418\n",
      "26   45.15148110780865\n",
      "27   44.01378180482425\n",
      "28   40.73441029177047\n",
      "29   42.58039113832638\n",
      "30   40.586647923104465\n",
      "31   39.81283515098039\n",
      "32   38.84920750884339\n",
      "33   41.83758933329955\n",
      "34   37.14536322373897\n",
      "35   33.06393016676884\n",
      "36   32.157501527806744\n",
      "37   37.2378303562291\n",
      "38   35.01332723943051\n",
      "39   42.498509079101495\n",
      "40   28.073286268336233\n",
      "41   32.17128033563495\n",
      "42   34.82705881819129\n",
      "43   28.975668731494807\n",
      "44   30.020945942786057\n",
      "45   26.952670581522398\n",
      "46   33.7580246948055\n",
      "47   26.830695156240836\n",
      "48   29.89245995390229\n",
      "49   33.85739439143799\n",
      "50   40.55945541989058\n",
      "51   33.073974600527436\n",
      "52   27.346768109709956\n",
      "53   25.218953893258004\n",
      "54   24.41848868044326\n",
      "55   28.424363138503395\n",
      "56   30.952480125706643\n",
      "57   27.263936447678134\n",
      "58   37.64939553337172\n",
      "59   24.726365413866006\n",
      "60   27.484615281486185\n",
      "61   27.322021465166472\n",
      "62   32.465617425972596\n",
      "63   26.81876374181593\n",
      "64   22.78033884119941\n",
      "65   27.828281034890097\n",
      "67   30.30056445824448\n",
      "68   26.52056447986979\n",
      "69   26.300814020156395\n",
      "70   26.05057333613513\n",
      "71   29.98643935099244\n",
      "72   22.474045733804815\n",
      "73   24.235894954705145\n",
      "74   24.016703296045307\n",
      "75   27.953914124635048\n",
      "76   29.099902747373562\n",
      "77   27.895167269045487\n",
      "78   27.90313158882782\n",
      "79   28.665426513296552\n",
      "80   26.122113730642013\n",
      "81   26.716077503631823\n",
      "82   24.25390787870856\n",
      "83   25.45567423925968\n",
      "84   32.19473801617278\n",
      "85   35.82901623204816\n",
      "86   27.942625502648298\n",
      "87   26.95180121588055\n",
      "88   20.18782635376556\n",
      "89   25.646375408454333\n",
      "90   26.496386929473374\n",
      "91   28.647146201110445\n"
     ]
    }
   ],
   "source": [
    "batch_size = 100\n",
    "for i in range(100):\n",
    "    num_batches = int(mnist.train.num_examples/batch_size)\n",
    "    total_cost = 0\n",
    "    for j in range(num_batches):\n",
    "        batch_x, batch_y = mnist.train.next_batch(batch_size) \n",
    "        c, _ = sess.run([cost, optimize_step], feed_dict={x:batch_x, y:batch_y})\n",
    "        total_cost += c\n",
    "    print(i,\" \",total_cost)"
   ]
  },
  {
   "cell_type": "code",
   "execution_count": 12,
   "metadata": {
    "colab": {
     "autoexec": {
      "startup": false,
      "wait_interval": 0
     },
     "base_uri": "https://localhost:8080/",
     "height": 34
    },
    "colab_type": "code",
    "executionInfo": {
     "elapsed": 1173,
     "status": "ok",
     "timestamp": 1532070173189,
     "user": {
      "displayName": "divyn gairola",
      "photoUrl": "https://lh3.googleusercontent.com/a/default-user=s128",
      "userId": "100049045453032642325"
     },
     "user_tz": -330
    },
    "id": "1FxSuaMVe9WX",
    "outputId": "4cccc129-faa9-4910-a50a-ba4b345f156c"
   },
   "outputs": [
    {
     "data": {
      "text/plain": [
       "9513"
      ]
     },
     "execution_count": 12,
     "metadata": {
      "tags": []
     },
     "output_type": "execute_result"
    }
   ],
   "source": [
    "predictions = tf.argmax(pred, axis = 1)\n",
    "actual_labels = tf.argmax(y, axis = 1)\n",
    "correct_predictions = tf.equal(predictions,actual_labels)\n",
    "\n",
    "correct_preds = sess.run(correct_predictions, feed_dict={x:mnist.test.images, y:mnist.test.labels} )\n",
    "\n",
    "correct_preds.sum()"
   ]
  },
  {
   "cell_type": "code",
   "execution_count": 0,
   "metadata": {
    "colab": {
     "autoexec": {
      "startup": false,
      "wait_interval": 0
     }
    },
    "colab_type": "code",
    "id": "WbLLWsdye9Z1"
   },
   "outputs": [],
   "source": []
  },
  {
   "cell_type": "code",
   "execution_count": 0,
   "metadata": {
    "colab": {
     "autoexec": {
      "startup": false,
      "wait_interval": 0
     }
    },
    "colab_type": "code",
    "id": "PdpV6Ifme9fC"
   },
   "outputs": [],
   "source": []
  }
 ],
 "metadata": {
  "colab": {
   "default_view": {},
   "name": "mnist.ipynb",
   "provenance": [],
   "version": "0.3.2",
   "views": {}
  },
  "kernelspec": {
   "display_name": "Python 3",
   "language": "python",
   "name": "python3"
  },
  "language_info": {
   "codemirror_mode": {
    "name": "ipython",
    "version": 3
   },
   "file_extension": ".py",
   "mimetype": "text/x-python",
   "name": "python",
   "nbconvert_exporter": "python",
   "pygments_lexer": "ipython3",
   "version": "3.6.5"
  }
 },
 "nbformat": 4,
 "nbformat_minor": 1
}
