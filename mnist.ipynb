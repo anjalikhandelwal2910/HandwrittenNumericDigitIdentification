{
 "cells": [
  {
   "cell_type": "code",
   "execution_count": 1,
   "metadata": {
    "colab": {
     "autoexec": {
      "startup": false,
      "wait_interval": 0
     }
    },
    "colab_type": "code",
    "id": "Ys8ujaS--z-6"
   },
   "outputs": [
    {
     "name": "stderr",
     "output_type": "stream",
     "text": [
      "C:\\Users\\HP\\Anaconda3\\lib\\site-packages\\h5py\\__init__.py:36: FutureWarning: Conversion of the second argument of issubdtype from `float` to `np.floating` is deprecated. In future, it will be treated as `np.float64 == np.dtype(float).type`.\n",
      "  from ._conv import register_converters as _register_converters\n"
     ]
    }
   ],
   "source": [
    "import tensorflow as tf\n",
    "import matplotlib.pyplot as plt"
   ]
  },
  {
   "cell_type": "code",
   "execution_count": 2,
   "metadata": {
    "colab": {
     "autoexec": {
      "startup": false,
      "wait_interval": 0
     }
    },
    "colab_type": "code",
    "id": "yr6UfTdmevII"
   },
   "outputs": [],
   "source": [
    "from tensorflow.examples.tutorials.mnist import input_data"
   ]
  },
  {
   "cell_type": "code",
   "execution_count": 3,
   "metadata": {
    "colab": {
     "autoexec": {
      "startup": false,
      "wait_interval": 0
     },
     "base_uri": "https://localhost:8080/",
     "height": 524
    },
    "colab_type": "code",
    "executionInfo": {
     "elapsed": 2236,
     "status": "ok",
     "timestamp": 1532069892922,
     "user": {
      "displayName": "divyn gairola",
      "photoUrl": "https://lh3.googleusercontent.com/a/default-user=s128",
      "userId": "100049045453032642325"
     },
     "user_tz": -330
    },
    "id": "NK_X0KY4excx",
    "outputId": "a2e7ac10-35f8-40fb-907d-6b1f1bc02b6f"
   },
   "outputs": [
    {
     "name": "stdout",
     "output_type": "stream",
     "text": [
      "WARNING:tensorflow:From <ipython-input-3-1a516c502833>:1: read_data_sets (from tensorflow.contrib.learn.python.learn.datasets.mnist) is deprecated and will be removed in a future version.\n",
      "Instructions for updating:\n",
      "Please use alternatives such as official/mnist/dataset.py from tensorflow/models.\n",
      "WARNING:tensorflow:From C:\\Users\\HP\\Anaconda3\\lib\\site-packages\\tensorflow\\contrib\\learn\\python\\learn\\datasets\\mnist.py:260: maybe_download (from tensorflow.contrib.learn.python.learn.datasets.base) is deprecated and will be removed in a future version.\n",
      "Instructions for updating:\n",
      "Please write your own downloading logic.\n",
      "WARNING:tensorflow:From C:\\Users\\HP\\Anaconda3\\lib\\site-packages\\tensorflow\\contrib\\learn\\python\\learn\\datasets\\base.py:252: _internal_retry.<locals>.wrap.<locals>.wrapped_fn (from tensorflow.contrib.learn.python.learn.datasets.base) is deprecated and will be removed in a future version.\n",
      "Instructions for updating:\n",
      "Please use urllib or similar directly.\n",
      "Successfully downloaded train-images-idx3-ubyte.gz 9912422 bytes.\n",
      "WARNING:tensorflow:From C:\\Users\\HP\\Anaconda3\\lib\\site-packages\\tensorflow\\contrib\\learn\\python\\learn\\datasets\\mnist.py:262: extract_images (from tensorflow.contrib.learn.python.learn.datasets.mnist) is deprecated and will be removed in a future version.\n",
      "Instructions for updating:\n",
      "Please use tf.data to implement this functionality.\n",
      "Extracting MNIST_data/train-images-idx3-ubyte.gz\n",
      "Successfully downloaded train-labels-idx1-ubyte.gz 28881 bytes.\n",
      "WARNING:tensorflow:From C:\\Users\\HP\\Anaconda3\\lib\\site-packages\\tensorflow\\contrib\\learn\\python\\learn\\datasets\\mnist.py:267: extract_labels (from tensorflow.contrib.learn.python.learn.datasets.mnist) is deprecated and will be removed in a future version.\n",
      "Instructions for updating:\n",
      "Please use tf.data to implement this functionality.\n",
      "Extracting MNIST_data/train-labels-idx1-ubyte.gz\n",
      "WARNING:tensorflow:From C:\\Users\\HP\\Anaconda3\\lib\\site-packages\\tensorflow\\contrib\\learn\\python\\learn\\datasets\\mnist.py:110: dense_to_one_hot (from tensorflow.contrib.learn.python.learn.datasets.mnist) is deprecated and will be removed in a future version.\n",
      "Instructions for updating:\n",
      "Please use tf.one_hot on tensors.\n",
      "Successfully downloaded t10k-images-idx3-ubyte.gz 1648877 bytes.\n",
      "Extracting MNIST_data/t10k-images-idx3-ubyte.gz\n",
      "Successfully downloaded t10k-labels-idx1-ubyte.gz 4542 bytes.\n",
      "Extracting MNIST_data/t10k-labels-idx1-ubyte.gz\n",
      "WARNING:tensorflow:From C:\\Users\\HP\\Anaconda3\\lib\\site-packages\\tensorflow\\contrib\\learn\\python\\learn\\datasets\\mnist.py:290: DataSet.__init__ (from tensorflow.contrib.learn.python.learn.datasets.mnist) is deprecated and will be removed in a future version.\n",
      "Instructions for updating:\n",
      "Please use alternatives such as official/mnist/dataset.py from tensorflow/models.\n"
     ]
    }
   ],
   "source": [
    "mnist = input_data.read_data_sets(\"MNIST_data/\", one_hot = True)"
   ]
  },
  {
   "cell_type": "code",
   "execution_count": 4,
   "metadata": {
    "colab": {
     "autoexec": {
      "startup": false,
      "wait_interval": 0
     }
    },
    "colab_type": "code",
    "id": "y86P3fb5eztR"
   },
   "outputs": [],
   "source": [
    "n_hidden=[784,150,50]\n",
    "n_classes=10\n",
    "n_hidden.append(n_classes)\n",
    "weights={}\n",
    "biases={}\n",
    "for i in range(len(n_hidden)-1):\n",
    "    weights[i]=tf.Variable(tf.random_normal([n_hidden[i],n_hidden[i+1]]))\n",
    "    biases[i]=tf.Variable(tf.random_normal([n_hidden[i+1]]))"
   ]
  },
  {
   "cell_type": "code",
   "execution_count": 5,
   "metadata": {
    "colab": {
     "autoexec": {
      "startup": false,
      "wait_interval": 0
     }
    },
    "colab_type": "code",
    "id": "YVG6tw00e3Hj"
   },
   "outputs": [],
   "source": [
    "in_hidden={}\n",
    "out_hidden={}\n",
    "def forward_propagation(x, weights, biases):\n",
    "    for i in range(len(weights)):\n",
    "        if i==0:\n",
    "            in_hidden[i]=tf.add(tf.matmul(x,weights[i]),biases[i])\n",
    "        else:    \n",
    "            in_hidden[i]=tf.add(tf.matmul(out_hidden[i-1],weights[i]),biases[i])\n",
    "        out_hidden[i]=tf.nn.relu(in_hidden[i])\n",
    "    out_hidden[i]=in_hidden[i]\n",
    "    return out_hidden[i]"
   ]
  },
  {
   "cell_type": "code",
   "execution_count": 6,
   "metadata": {
    "colab": {
     "autoexec": {
      "startup": false,
      "wait_interval": 0
     }
    },
    "colab_type": "code",
    "id": "SkZ0F-uge6OC"
   },
   "outputs": [],
   "source": [
    "x = tf.placeholder(\"float\", [None, n_hidden[0]])\n",
    "y = tf.placeholder(tf.int32, [None, n_classes])"
   ]
  },
  {
   "cell_type": "code",
   "execution_count": 7,
   "metadata": {
    "colab": {
     "autoexec": {
      "startup": false,
      "wait_interval": 0
     }
    },
    "colab_type": "code",
    "id": "xM-dxDjge61Q"
   },
   "outputs": [],
   "source": [
    "pred = forward_propagation(x, weights, biases)"
   ]
  },
  {
   "cell_type": "code",
   "execution_count": 8,
   "metadata": {
    "colab": {
     "autoexec": {
      "startup": false,
      "wait_interval": 0
     }
    },
    "colab_type": "code",
    "id": "7Tai3mZge808"
   },
   "outputs": [
    {
     "name": "stdout",
     "output_type": "stream",
     "text": [
      "WARNING:tensorflow:From <ipython-input-8-5b540179457b>:1: softmax_cross_entropy_with_logits (from tensorflow.python.ops.nn_ops) is deprecated and will be removed in a future version.\n",
      "Instructions for updating:\n",
      "\n",
      "Future major versions of TensorFlow will allow gradients to flow\n",
      "into the labels input on backprop by default.\n",
      "\n",
      "See @{tf.nn.softmax_cross_entropy_with_logits_v2}.\n",
      "\n"
     ]
    }
   ],
   "source": [
    "cost = tf.reduce_mean(tf.nn.softmax_cross_entropy_with_logits(logits = pred, labels = y))"
   ]
  },
  {
   "cell_type": "code",
   "execution_count": 9,
   "metadata": {
    "colab": {
     "autoexec": {
      "startup": false,
      "wait_interval": 0
     }
    },
    "colab_type": "code",
    "id": "kCVJcsmFe9Lb"
   },
   "outputs": [],
   "source": [
    "optimizer = tf.train.AdamOptimizer(learning_rate = 0.01)\n",
    "optimize_step = optimizer.minimize(cost)"
   ]
  },
  {
   "cell_type": "code",
   "execution_count": 10,
   "metadata": {
    "colab": {
     "autoexec": {
      "startup": false,
      "wait_interval": 0
     }
    },
    "colab_type": "code",
    "id": "DnMd5JX_e9PM"
   },
   "outputs": [],
   "source": [
    "sess=tf.Session()\n",
    "sess.run(tf.global_variables_initializer())"
   ]
  },
  {
   "cell_type": "code",
   "execution_count": 11,
   "metadata": {
    "colab": {
     "autoexec": {
      "startup": false,
      "wait_interval": 0
     },
     "base_uri": "https://localhost:8080/",
     "height": 1546
    },
    "colab_type": "code",
    "id": "fdKXHaj-e9Sy",
    "outputId": "e564d54e-da14-433d-f880-6cf31f88a1da"
   },
   "outputs": [
    {
     "name": "stdout",
     "output_type": "stream",
     "text": [
      "0   6291.17076587677\n",
      "1   629.5420147776604\n",
      "2   500.13226479291916\n",
      "3   407.2823739349842\n",
      "4   356.5796439945698\n",
      "5   304.7203920483589\n",
      "6   266.0966295450926\n",
      "7   225.17148189246655\n",
      "8   213.7077102214098\n",
      "9   175.87882912904024\n",
      "10   162.83462411165237\n",
      "11   141.19520600140095\n",
      "12   132.2796021476388\n",
      "13   109.37874001450837\n",
      "14   107.23892842791975\n",
      "15   104.3137499820441\n",
      "16   94.5716948248446\n",
      "17   88.6496595069766\n",
      "18   82.22523720003664\n",
      "19   73.0088448766619\n",
      "20   78.70847539696842\n",
      "21   67.9077538405545\n",
      "22   60.62396417092532\n",
      "23   60.497010997030884\n",
      "24   61.68756039557047\n",
      "25   58.653207146096975\n",
      "26   54.67638969793916\n",
      "27   54.89780716272071\n",
      "28   56.73292170511559\n",
      "29   43.92912800621707\n",
      "30   50.20641933567822\n",
      "31   38.86440899409354\n",
      "32   46.427275547524914\n",
      "33   45.95047861337662\n",
      "34   43.29864263953641\n",
      "35   41.611993715167046\n",
      "36   40.96591526712291\n",
      "37   44.71511958981864\n",
      "38   36.49958643480204\n",
      "39   46.55150925950147\n",
      "40   46.25526278070174\n",
      "41   39.78376463591121\n",
      "42   42.90661193407141\n",
      "43   40.65785298938863\n",
      "44   39.38200126797892\n",
      "45   42.159820306580514\n",
      "46   35.99469184712507\n",
      "47   32.81787389644887\n",
      "48   37.400174603564665\n",
      "49   49.50641234614886\n",
      "50   33.403235976118594\n",
      "51   31.746223717113025\n",
      "52   36.357589227496646\n",
      "53   33.39780865574721\n",
      "54   34.365269750822335\n",
      "55   39.35357139655389\n",
      "56   40.46897158306092\n",
      "57   34.23381109838374\n",
      "58   36.75535361003131\n",
      "59   38.78792675177101\n",
      "60   28.482750180643052\n",
      "61   34.06822171853855\n",
      "62   29.590518012992106\n",
      "63   37.73608157783747\n",
      "64   35.39667400880717\n",
      "65   30.442309857229702\n",
      "66   40.79763610288501\n",
      "67   35.70299577759579\n",
      "68   36.02167057315819\n",
      "69   35.91331896977499\n",
      "70   35.84907894884236\n",
      "71   34.920532017131336\n",
      "72   30.025053072487935\n",
      "73   39.85494503309019\n",
      "74   32.5987407383509\n",
      "75   26.013245809241198\n",
      "76   39.14150398259517\n",
      "77   37.08498097315896\n",
      "78   29.262337024440058\n",
      "79   36.28163672913797\n",
      "80   29.389990848954767\n",
      "81   30.105549319530837\n",
      "82   24.465274384710938\n",
      "83   33.67015769262798\n",
      "84   37.51734515232965\n",
      "85   43.98020779481158\n",
      "86   38.367978721274994\n",
      "87   30.97405658464413\n",
      "88   22.860212981002405\n",
      "89   27.068789425189607\n",
      "90   32.53776887257118\n",
      "91   29.610261575086042\n",
      "92   41.15657778561581\n",
      "93   38.338749541086145\n",
      "94   33.444221090641804\n",
      "95   31.111881310585886\n",
      "96   25.822584089590237\n",
      "97   25.593656814307906\n",
      "98   26.065352363628335\n",
      "99   26.600145162898116\n"
     ]
    }
   ],
   "source": [
    "batch_size = 100\n",
    "for i in range(100):\n",
    "    num_batches = int(mnist.train.num_examples/batch_size)\n",
    "    total_cost = 0\n",
    "    for j in range(num_batches):\n",
    "        batch_x, batch_y = mnist.train.next_batch(batch_size) \n",
    "        c, _ = sess.run([cost, optimize_step], feed_dict={x:batch_x, y:batch_y})\n",
    "        total_cost += c\n",
    "    print(i,\" \",total_cost)"
   ]
  },
  {
   "cell_type": "code",
   "execution_count": 12,
   "metadata": {
    "colab": {
     "autoexec": {
      "startup": false,
      "wait_interval": 0
     },
     "base_uri": "https://localhost:8080/",
     "height": 34
    },
    "colab_type": "code",
    "executionInfo": {
     "elapsed": 1173,
     "status": "ok",
     "timestamp": 1532070173189,
     "user": {
      "displayName": "divyn gairola",
      "photoUrl": "https://lh3.googleusercontent.com/a/default-user=s128",
      "userId": "100049045453032642325"
     },
     "user_tz": -330
    },
    "id": "1FxSuaMVe9WX",
    "outputId": "4cccc129-faa9-4910-a50a-ba4b345f156c"
   },
   "outputs": [
    {
     "data": {
      "text/plain": [
       "9741"
      ]
     },
     "execution_count": 12,
     "metadata": {},
     "output_type": "execute_result"
    }
   ],
   "source": [
    "predictions = tf.argmax(pred, axis = 1)\n",
    "actual_labels = tf.argmax(y, axis = 1)\n",
    "correct_predictions = tf.equal(predictions,actual_labels)\n",
    "\n",
    "correct_preds = sess.run(correct_predictions, feed_dict={x:mnist.test.images, y:mnist.test.labels} )\n",
    "\n",
    "correct_preds.sum()"
   ]
  },
  {
   "cell_type": "code",
   "execution_count": 0,
   "metadata": {
    "colab": {
     "autoexec": {
      "startup": false,
      "wait_interval": 0
     }
    },
    "colab_type": "code",
    "id": "WbLLWsdye9Z1"
   },
   "outputs": [],
   "source": []
  },
  {
   "cell_type": "code",
   "execution_count": 0,
   "metadata": {
    "colab": {
     "autoexec": {
      "startup": false,
      "wait_interval": 0
     }
    },
    "colab_type": "code",
    "id": "PdpV6Ifme9fC"
   },
   "outputs": [],
   "source": []
  }
 ],
 "metadata": {
  "colab": {
   "default_view": {},
   "name": "mnist.ipynb",
   "provenance": [],
   "version": "0.3.2",
   "views": {}
  },
  "kernelspec": {
   "display_name": "Python 3",
   "language": "python",
   "name": "python3"
  },
  "language_info": {
   "codemirror_mode": {
    "name": "ipython",
    "version": 3
   },
   "file_extension": ".py",
   "mimetype": "text/x-python",
   "name": "python",
   "nbconvert_exporter": "python",
   "pygments_lexer": "ipython3",
   "version": "3.6.5"
  }
 },
 "nbformat": 4,
 "nbformat_minor": 1
}
